{
 "cells": [
  {
   "cell_type": "markdown",
   "metadata": {},
   "source": [
    "FUNCTION COPY"
   ]
  },
  {
   "cell_type": "code",
   "execution_count": 17,
   "metadata": {},
   "outputs": [],
   "source": [
    "def welcome():\n",
    "    return (\"Welcome\")\n",
    "    "
   ]
  },
  {
   "cell_type": "code",
   "execution_count": 12,
   "metadata": {},
   "outputs": [],
   "source": [
    "wel=welcome()         ##This is function copy"
   ]
  },
  {
   "cell_type": "code",
   "execution_count": 13,
   "metadata": {},
   "outputs": [],
   "source": [
    "del welcome"
   ]
  },
  {
   "cell_type": "code",
   "execution_count": 14,
   "metadata": {},
   "outputs": [
    {
     "data": {
      "text/plain": [
       "'Welcome'"
      ]
     },
     "execution_count": 14,
     "metadata": {},
     "output_type": "execute_result"
    }
   ],
   "source": [
    "wel"
   ]
  },
  {
   "cell_type": "code",
   "execution_count": 16,
   "metadata": {},
   "outputs": [],
   "source": [
    "### error--->welcome()"
   ]
  },
  {
   "cell_type": "markdown",
   "metadata": {},
   "source": [
    "CLOSURES"
   ]
  },
  {
   "cell_type": "code",
   "execution_count": 18,
   "metadata": {},
   "outputs": [],
   "source": [
    "def welcome1(msg):\n",
    "    def welcome2():\n",
    "        print(\"Hallo\")\n",
    "        print(msg)\n",
    "    return welcome2()"
   ]
  },
  {
   "cell_type": "code",
   "execution_count": 20,
   "metadata": {},
   "outputs": [
    {
     "name": "stdout",
     "output_type": "stream",
     "text": [
      "Hallo\n",
      "Hello\n"
     ]
    }
   ],
   "source": [
    "welcome1(\"Hello\")"
   ]
  },
  {
   "cell_type": "markdown",
   "metadata": {},
   "source": [
    "CLOSURES & INITIAL DECORATORS"
   ]
  },
  {
   "cell_type": "code",
   "execution_count": 25,
   "metadata": {},
   "outputs": [],
   "source": [
    "def welcome1(function):   #here decorator is shown with the help of inbuilt function print\n",
    "    msg=\"Hallo ich heise mru\"\n",
    "    def welcome2():\n",
    "        print(\"Hallo\")\n",
    "        print(msg)\n",
    "        function(\"Wie ist du?\")\n",
    "    return welcome2()"
   ]
  },
  {
   "cell_type": "code",
   "execution_count": 26,
   "metadata": {},
   "outputs": [
    {
     "name": "stdout",
     "output_type": "stream",
     "text": [
      "Hallo\n",
      "Hallo ich heise mru\n",
      "Wie ist du?\n"
     ]
    }
   ],
   "source": [
    "welcome1(print)"
   ]
  },
  {
   "cell_type": "markdown",
   "metadata": {},
   "source": [
    "DECORATORS"
   ]
  },
  {
   "cell_type": "code",
   "execution_count": 27,
   "metadata": {},
   "outputs": [
    {
     "name": "stdout",
     "output_type": "stream",
     "text": [
      "Hallo\n",
      "Hallo ich heise mru\n",
      "This is custom func def\n"
     ]
    }
   ],
   "source": [
    "def welcome1(function):   #here decorator is shown with the help of custom function defined\n",
    "    msg=\"Hallo ich heise mru\"\n",
    "    def welcome2():\n",
    "        print(\"Hallo\")\n",
    "        print(msg)\n",
    "        function()\n",
    "    return welcome2()\n",
    "def customfun():\n",
    "    print(\"This is custom func def\")\n",
    "a=welcome1(customfun)      ##This is one way of defining decorators, it is a decorator class which uses funnction name as para"
   ]
  },
  {
   "cell_type": "code",
   "execution_count": 28,
   "metadata": {},
   "outputs": [
    {
     "name": "stdout",
     "output_type": "stream",
     "text": [
      "Hallo\n",
      "Hallo ich heise mru\n",
      "This is other way of defining decorator\n"
     ]
    }
   ],
   "source": [
    "@welcome1\n",
    "def custom():\n",
    "    print(\"This is other way of defining decorator\")"
   ]
  },
  {
   "cell_type": "code",
   "execution_count": null,
   "metadata": {},
   "outputs": [],
   "source": []
  }
 ],
 "metadata": {
  "kernelspec": {
   "display_name": "Python 3",
   "language": "python",
   "name": "python3"
  },
  "language_info": {
   "codemirror_mode": {
    "name": "ipython",
    "version": 3
   },
   "file_extension": ".py",
   "mimetype": "text/x-python",
   "name": "python",
   "nbconvert_exporter": "python",
   "pygments_lexer": "ipython3",
   "version": "3.7.3"
  }
 },
 "nbformat": 4,
 "nbformat_minor": 2
}
